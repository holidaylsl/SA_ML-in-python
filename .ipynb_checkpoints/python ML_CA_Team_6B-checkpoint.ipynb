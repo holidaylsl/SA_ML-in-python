{
 "cells": [
  {
   "cell_type": "code",
   "execution_count": 1,
   "id": "57698ca8",
   "metadata": {},
   "outputs": [],
   "source": [
    "import tensorflow as tf\n",
    "import numpy as np\n",
    "import matplotlib.pyplot as plt\n",
    "from PIL import Image"
   ]
  },
  {
   "cell_type": "markdown",
   "id": "ccc355c3",
   "metadata": {},
   "source": [
    "#### check and manipulate a random image in the training set"
   ]
  },
  {
   "cell_type": "code",
   "execution_count": 2,
   "id": "10dda576",
   "metadata": {},
   "outputs": [
    {
     "data": {
      "image/png": "[encoded data removed]",
      "text/plain": [
       "<PIL.Image.Image image mode=RGB size=100x100 at 0x2AA61897A60>"
      ]
     },
     "execution_count": 2,
     "metadata": {},
     "output_type": "execute_result"
    }
   ],
   "source": [
    "img_path = 'train/'\n",
    "img = Image.open(img_path + 'apple_{0}.jpg'.format(66))\n",
    "img_mini = img.resize((100,100))\n",
    "img_mini"
   ]
  },
  {
   "cell_type": "code",
   "execution_count": 3,
   "id": "3082bc32",
   "metadata": {
    "scrolled": true
   },
   "outputs": [
    {
     "data": {
      "text/plain": [
       "array([[[250, 250, 252],\n",
       "        [250, 250, 252],\n",
       "        [250, 250, 252],\n",
       "        ...,\n",
       "        [250, 250, 252],\n",
       "        [250, 250, 252],\n",
       "        [250, 250, 252]],\n",
       "\n",
       "       [[250, 250, 252],\n",
       "        [250, 250, 252],\n",
       "        [250, 250, 252],\n",
       "        ...,\n",
       "        [250, 250, 252],\n",
       "        [250, 250, 252],\n",
       "        [250, 250, 252]],\n",
       "\n",
       "       [[250, 250, 252],\n",
       "        [250, 250, 252],\n",
       "        [250, 250, 252],\n",
       "        ...,\n",
       "        [250, 250, 252],\n",
       "        [250, 250, 252],\n",
       "        [250, 250, 252]],\n",
       "\n",
       "       ...,\n",
       "\n",
       "       [[250, 250, 252],\n",
       "        [250, 250, 252],\n",
       "        [250, 250, 252],\n",
       "        ...,\n",
       "        [250, 250, 252],\n",
       "        [250, 250, 252],\n",
       "        [250, 250, 252]],\n",
       "\n",
       "       [[250, 250, 252],\n",
       "        [250, 250, 252],\n",
       "        [250, 250, 252],\n",
       "        ...,\n",
       "        [250, 250, 252],\n",
       "        [250, 250, 252],\n",
       "        [250, 250, 252]],\n",
       "\n",
       "       [[251, 251, 253],\n",
       "        [250, 250, 252],\n",
       "        [250, 250, 252],\n",
       "        ...,\n",
       "        [250, 250, 252],\n",
       "        [250, 250, 252],\n",
       "        [250, 250, 252]]], dtype=uint8)"
      ]
     },
     "execution_count": 3,
     "metadata": {},
     "output_type": "execute_result"
    }
   ],
   "source": [
    "np_mini = np.array(img_mini)\n",
    "np_mini"
   ]
  },
  {
   "cell_type": "code",
   "execution_count": 4,
   "id": "8de3a1a9",
   "metadata": {},
   "outputs": [
    {
     "data": {
      "text/plain": [
       "(100, 100, 3)"
      ]
     },
     "execution_count": 4,
     "metadata": {},
     "output_type": "execute_result"
    }
   ],
   "source": [
    "np_mini.shape"
   ]
  },
  {
   "cell_type": "markdown",
   "id": "0c01c9a3",
   "metadata": {},
   "source": [
    "#### Processing the images"
   ]
  },
  {
   "cell_type": "code",
   "execution_count": 15,
   "id": "d19e23c1",
   "metadata": {
    "scrolled": true
   },
   "outputs": [
    {
     "name": "stdout",
     "output_type": "stream",
     "text": [
      "apple.1 (64, 64, 4) ***invalid shape***\n",
      "apple.8 (64, 64) ***invalid shape***\n",
      "apple.28 (64, 64, 4) ***invalid shape***\n",
      "apple.37 (64, 64) ***invalid shape***\n",
      "apple.42 (64, 64) ***invalid shape***\n",
      "apple.43 (64, 64, 4) ***invalid shape***\n",
      "apple.44 (64, 64, 4) ***invalid shape***\n"
     ]
    },
    {
     "data": {
      "text/plain": [
       "(69, 64, 64, 3)"
      ]
     },
     "execution_count": 15,
     "metadata": {},
     "output_type": "execute_result"
    }
   ],
   "source": [
    "#there are 76 apple images in the training set. Resize, check the shapes, and adopt the valid ones\n",
    "x_train = None\n",
    "for i in range(1, 77):\n",
    "    img_raw = Image.open(img_path + 'apple_{0}.jpg'.format(i))\n",
    "    img_tiny = img_raw.resize((64,64))\n",
    "    if np.array(img_tiny).shape!=(64,64,3):\n",
    "        print('apple.{0}'.format(i),np.array(img_tiny).shape,\n",
    "              '***invalid shape***') #display those not following the (64,64,3) pattern (,and thus cannot be reshaped)\n",
    "    else:\n",
    "        if x_train is None:\n",
    "            x_train = img_tiny\n",
    "        else:\n",
    "            x_train = np.concatenate((x_train, img_tiny))\n",
    "            \n",
    "x_train = x_train.reshape(-1, 64, 64, 3)        \n",
    "x_train.shape  #the result implying 69 valid members"
   ]
  },
  {
   "cell_type": "code",
   "execution_count": 16,
   "id": "7832ff19",
   "metadata": {},
   "outputs": [
    {
     "data": {
      "text/plain": [
       "(69, 3)"
      ]
     },
     "execution_count": 16,
     "metadata": {},
     "output_type": "execute_result"
    }
   ],
   "source": [
    "# 1-hot encode the label: [1,0,0]-apple, [0,1,0]-banana, [0,0,1]-orange, [1,1,1]-mixed\n",
    "y_train = np.array([[1,0,0] for i in range(69)])\n",
    "y_train.shape"
   ]
  },
  {
   "cell_type": "code",
   "execution_count": 17,
   "id": "238a0cdc",
   "metadata": {},
   "outputs": [
    {
     "name": "stdout",
     "output_type": "stream",
     "text": [
      "banana.25 (64, 64, 4) ***invalid shape***\n",
      "banana.35 (64, 64, 4) ***invalid shape***\n",
      "banana.53 (64, 64, 4) ***invalid shape***\n",
      "banana.57 (64, 64, 4) ***invalid shape***\n",
      "banana.60 (64, 64, 4) ***invalid shape***\n",
      "banana.71 (64, 64, 4) ***invalid shape***\n",
      "banana.72 (64, 64, 4) ***invalid shape***\n",
      "Banana:  (66, 64, 64, 3)\n",
      "now y shape is:  (135, 3) \n",
      "\n",
      "orange.1 (64, 64) ***invalid shape***\n",
      "orange.11 (64, 64, 4) ***invalid shape***\n",
      "orange.13 (64, 64, 4) ***invalid shape***\n",
      "orange.22 (64, 64, 4) ***invalid shape***\n",
      "orange.30 (64, 64, 4) ***invalid shape***\n",
      "orange.35 (64, 64, 4) ***invalid shape***\n",
      "orange.42 (64, 64, 4) ***invalid shape***\n",
      "orange.51 (64, 64, 4) ***invalid shape***\n",
      "orange.64 (64, 64, 4) ***invalid shape***\n",
      "orange.68 (64, 64, 4) ***invalid shape***\n",
      "orange.70 (64, 64, 4) ***invalid shape***\n",
      "Orange:  (61, 64, 64, 3)\n",
      "now y shape is:  (196, 3) \n",
      "\n",
      "mixed.16 (64, 64, 4) ***invalid shape***\n",
      "Mixed:  (19, 64, 64, 3)\n",
      "now y shape is:  (215, 3) \n",
      "\n",
      "x shape is:  (215, 64, 64, 3)\n"
     ]
    }
   ],
   "source": [
    "#similar process for other fruit images in the training set:\n",
    "#73 banana, 72 orange, 20 mixed\n",
    "x1 = None\n",
    "for i in range(1, 74):\n",
    "    img_raw = Image.open(img_path + 'banana_{0}.jpg'.format(i))\n",
    "    img_tiny = img_raw.resize((64,64))\n",
    "    if np.array(img_tiny).shape!=(64,64,3):\n",
    "        print('banana.{0}'.format(i),np.array(img_tiny).shape,\n",
    "              '***invalid shape***')\n",
    "    else:\n",
    "        if x1 is None:\n",
    "            x1 = img_tiny\n",
    "        else:\n",
    "            x1 = np.concatenate((x1, img_tiny))\n",
    "x1 = x1.reshape(-1, 64, 64, 3) \n",
    "print('Banana: ',x1.shape) #result implying 66 valid banana images\n",
    "x_train = np.concatenate((x_train, x1))\n",
    "for i in range(66):\n",
    "    y_train = np.append(y_train, [0,1,0]).reshape(-1,3)\n",
    "print('now y shape is: ', y_train.shape, '\\n')\n",
    "\n",
    "x2 = None\n",
    "for i in range(1, 73):\n",
    "    img_raw = Image.open(img_path + 'orange_{0}.jpg'.format(i))\n",
    "    img_tiny = img_raw.resize((64,64))\n",
    "    if np.array(img_tiny).shape!=(64,64,3):\n",
    "        print('orange.{0}'.format(i),np.array(img_tiny).shape,\n",
    "              '***invalid shape***')\n",
    "    else:\n",
    "        if x2 is None:\n",
    "            x2 = img_tiny\n",
    "        else:\n",
    "            x2 = np.concatenate((x2, img_tiny))\n",
    "x2 = x2.reshape(-1, 64, 64, 3) \n",
    "print('Orange: ', x2.shape) #result implying 61 valid orange images\n",
    "x_train = np.concatenate((x_train, x2))\n",
    "for i in range(61):\n",
    "    y_train = np.append(y_train, [0,0,1]).reshape(-1,3)\n",
    "print('now y shape is: ', y_train.shape, '\\n')\n",
    "\n",
    "x3 = None\n",
    "for i in range(1, 21):\n",
    "    img_raw = Image.open(img_path + 'mixed_{0}.jpg'.format(i))\n",
    "    img_tiny = img_raw.resize((64,64))\n",
    "    if np.array(img_tiny).shape!=(64,64,3):\n",
    "        print('mixed.{0}'.format(i),np.array(img_tiny).shape,\n",
    "              '***invalid shape***')\n",
    "    else:\n",
    "        if x3 is None:\n",
    "            x3 = img_tiny\n",
    "        else:\n",
    "            x3 = np.concatenate((x3, img_tiny))\n",
    "x3 = x3.reshape(-1, 64, 64, 3) \n",
    "print('Mixed: ', x3.shape) #result implying 19 valid mixed images\n",
    "x_train = np.concatenate((x_train, x3))\n",
    "for i in range(19):\n",
    "    y_train = np.append(y_train, [1,1,1]).reshape(-1,3)\n",
    "print('now y shape is: ', y_train.shape, '\\n')\n",
    "\n",
    "print('x shape is: ', x_train.shape)"
   ]
  },
  {
   "cell_type": "markdown",
   "id": "52fe4b45",
   "metadata": {},
   "source": [
    "#### Constructing and training the model"
   ]
  },
  {
   "cell_type": "code",
   "execution_count": 22,
   "id": "5af0fa72",
   "metadata": {},
   "outputs": [],
   "source": [
    "model = tf.keras.Sequential()\n",
    "\n",
    "model.add(tf.keras.layers.Conv2D(filters=32,\n",
    "    kernel_size=(3, 3),\n",
    "    activation='relu',\n",
    "    input_shape=(64, 64, 3)))\n",
    "model.add(tf.keras.layers.Conv2D(filters=32,\n",
    "    kernel_size=(5, 5),\n",
    "    activation='relu'))\n",
    "\n",
    "model.add(tf.keras.layers.MaxPooling2D(pool_size=(2, 2)))\n",
    "model.add(tf.keras.layers.Dropout(rate=0.25))\n",
    "\n",
    "model.add(tf.keras.layers.Flatten())\n",
    "\n",
    "model.add(tf.keras.layers.Dense(units=32, activation='relu'))\n",
    "model.add(tf.keras.layers.Dropout(rate=0.5))\n",
    "\n",
    "model.add(tf.keras.layers.Dense(units=3, activation='softmax'))\n",
    "\n",
    "model.compile(loss='categorical_crossentropy', optimizer='adam', metrics=['accuracy'])"
   ]
  },
  {
   "cell_type": "code",
   "execution_count": 23,
   "id": "2fa71620",
   "metadata": {},
   "outputs": [
    {
     "name": "stdout",
     "output_type": "stream",
     "text": [
      "Epoch 1/20\n",
      "7/7 [==============================] - 2s 340ms/step - loss: 1.4175 - accuracy: 0.4140\n",
      "Epoch 2/20\n",
      "7/7 [==============================] - 2s 323ms/step - loss: 1.2792 - accuracy: 0.4651\n",
      "Epoch 3/20\n",
      "7/7 [==============================] - 2s 323ms/step - loss: 1.3219 - accuracy: 0.4326\n",
      "Epoch 4/20\n",
      "7/7 [==============================] - 2s 347ms/step - loss: 1.5098 - accuracy: 0.5349\n",
      "Epoch 5/20\n",
      "7/7 [==============================] - 3s 384ms/step - loss: 3.2315 - accuracy: 0.4233\n",
      "Epoch 6/20\n",
      "7/7 [==============================] - 2s 328ms/step - loss: 3.3938 - accuracy: 0.5070\n",
      "Epoch 7/20\n",
      "7/7 [==============================] - 3s 364ms/step - loss: 3.8096 - accuracy: 0.4419\n",
      "Epoch 8/20\n",
      "7/7 [==============================] - 3s 414ms/step - loss: 7.3905 - accuracy: 0.4651\n",
      "Epoch 9/20\n",
      "7/7 [==============================] - 2s 341ms/step - loss: 12.1773 - accuracy: 0.4326\n",
      "Epoch 10/20\n",
      "7/7 [==============================] - 2s 355ms/step - loss: 15.5287 - accuracy: 0.4698\n",
      "Epoch 11/20\n",
      "7/7 [==============================] - 2s 326ms/step - loss: 19.9023 - accuracy: 0.4558\n",
      "Epoch 12/20\n",
      "7/7 [==============================] - 2s 326ms/step - loss: 36.6399 - accuracy: 0.3581\n",
      "Epoch 13/20\n",
      "7/7 [==============================] - 3s 366ms/step - loss: 25.4620 - accuracy: 0.4140\n",
      "Epoch 14/20\n",
      "7/7 [==============================] - 3s 363ms/step - loss: 41.6040 - accuracy: 0.4000\n",
      "Epoch 15/20\n",
      "7/7 [==============================] - 3s 397ms/step - loss: 64.9134 - accuracy: 0.4326\n",
      "Epoch 16/20\n",
      "7/7 [==============================] - 2s 337ms/step - loss: 71.4705 - accuracy: 0.3628\n",
      "Epoch 17/20\n",
      "7/7 [==============================] - 2s 355ms/step - loss: 146.8300 - accuracy: 0.3442\n",
      "Epoch 18/20\n",
      "7/7 [==============================] - 3s 390ms/step - loss: 261.3357 - accuracy: 0.3767\n",
      "Epoch 19/20\n",
      "7/7 [==============================] - 2s 324ms/step - loss: 343.4686 - accuracy: 0.3442\n",
      "Epoch 20/20\n",
      "7/7 [==============================] - 2s 308ms/step - loss: 271.1490 - accuracy: 0.3070\n"
     ]
    }
   ],
   "source": [
    "hist = model.fit(x=x_train/255, y=y_train, epochs=20)"
   ]
  },
  {
   "cell_type": "code",
   "execution_count": null,
   "id": "e395d3da",
   "metadata": {},
   "outputs": [],
   "source": []
  }
 ],
 "metadata": {
  "kernelspec": {
   "display_name": "Python 3 (ipykernel)",
   "language": "python",
   "name": "python3"
  },
  "language_info": {
   "codemirror_mode": {
    "name": "ipython",
    "version": 3
   },
   "file_extension": ".py",
   "mimetype": "text/x-python",
   "name": "python",
   "nbconvert_exporter": "python",
   "pygments_lexer": "ipython3",
   "version": "3.8.12"
  }
 },
 "nbformat": 4,
 "nbformat_minor": 5
}
