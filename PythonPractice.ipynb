{
 "cells": [
  {
   "cell_type": "markdown",
   "id": "55d34f77",
   "metadata": {},
   "source": [
    "## int, float, bool, complex number, string"
   ]
  },
  {
   "cell_type": "code",
   "execution_count": 12,
   "id": "156726c1",
   "metadata": {},
   "outputs": [
    {
     "name": "stdout",
     "output_type": "stream",
     "text": [
      "value of f is: 1.8\n"
     ]
    }
   ],
   "source": [
    "i = 18\n",
    "\n",
    "f = 1.8\n",
    "print('value of f is: {0}'.format(f))\n",
    "\n",
    "b1 = True\n",
    "b2 = False\n",
    "\n",
    "c1 = 1+2j\n",
    "c2 = 1+3j\n",
    "cp = c1 * c2\n",
    "\n",
    "st = 'good'"
   ]
  },
  {
   "cell_type": "code",
   "execution_count": 14,
   "id": "86075bde",
   "metadata": {},
   "outputs": [
    {
     "name": "stdout",
     "output_type": "stream",
     "text": [
      "================Python import mode==========================\n",
      "命令行参数为:\n",
      "C:\\Users\\songl\\anaconda3\\envs\\pythonEx\\lib\\site-packages\\ipykernel_launcher.py\n",
      "-f\n",
      "C:\\Users\\songl\\AppData\\Roaming\\jupyter\\runtime\\kernel-1fd7bd4d-f086-451e-a11c-f360fe9218e9.json\n",
      "\n",
      " python 路径为 ['C:\\\\Users\\\\songl\\\\Desktop\\\\GDipSA 53\\\\Machine Learning in Python\\\\python Basics', 'C:\\\\Users\\\\songl\\\\anaconda3\\\\envs\\\\pythonEx\\\\python39.zip', 'C:\\\\Users\\\\songl\\\\anaconda3\\\\envs\\\\pythonEx\\\\DLLs', 'C:\\\\Users\\\\songl\\\\anaconda3\\\\envs\\\\pythonEx\\\\lib', 'C:\\\\Users\\\\songl\\\\anaconda3\\\\envs\\\\pythonEx', '', 'C:\\\\Users\\\\songl\\\\anaconda3\\\\envs\\\\pythonEx\\\\lib\\\\site-packages', 'C:\\\\Users\\\\songl\\\\anaconda3\\\\envs\\\\pythonEx\\\\lib\\\\site-packages\\\\win32', 'C:\\\\Users\\\\songl\\\\anaconda3\\\\envs\\\\pythonEx\\\\lib\\\\site-packages\\\\win32\\\\lib', 'C:\\\\Users\\\\songl\\\\anaconda3\\\\envs\\\\pythonEx\\\\lib\\\\site-packages\\\\Pythonwin', 'C:\\\\Users\\\\songl\\\\anaconda3\\\\envs\\\\pythonEx\\\\lib\\\\site-packages\\\\IPython\\\\extensions', 'C:\\\\Users\\\\songl\\\\.ipython']\n"
     ]
    }
   ],
   "source": [
    "import sys\n",
    "print('================Python import mode==========================')\n",
    "print ('命令行参数为:')\n",
    "for i in sys.argv:\n",
    "    print (i)\n",
    "print ('\\n python 路径为',sys.path)"
   ]
  },
  {
   "cell_type": "markdown",
   "id": "b8f82bb0",
   "metadata": {},
   "source": [
    "## standard data types: Numbers, String, Tuple, List, Dictionary, Set"
   ]
  },
  {
   "cell_type": "code",
   "execution_count": 20,
   "id": "e13f5934",
   "metadata": {},
   "outputs": [
    {
     "name": "stdout",
     "output_type": "stream",
     "text": [
      "<class 'int'> <class 'bool'> <class 'str'> <class 'tuple'> <class 'list'> <class 'dict'> <class 'set'>\n"
     ]
    }
   ],
   "source": [
    "a = 1\n",
    "b = True\n",
    "c = 'good'\n",
    "d = (1,2,3)\n",
    "e = ['1',2,'3']\n",
    "f = {(1,2,3):'1', 2:'2', '3':3}\n",
    "g = {'a', 1, (1,2,3), 'b'}\n",
    "print(type(a), type(b), type(c), type(d), type(e), type(f), type(g))"
   ]
  },
  {
   "cell_type": "code",
   "execution_count": 34,
   "id": "0b52ac86",
   "metadata": {},
   "outputs": [
    {
     "name": "stdout",
     "output_type": "stream",
     "text": [
      "True\n",
      "True\n"
     ]
    }
   ],
   "source": [
    "print(isinstance(a, int))\n",
    "print(issubclass(bool, int))"
   ]
  },
  {
   "cell_type": "code",
   "execution_count": 36,
   "id": "9d7f6b90",
   "metadata": {},
   "outputs": [
    {
     "data": {
      "text/plain": [
       "['b', 'd']"
      ]
     },
     "execution_count": 36,
     "metadata": {},
     "output_type": "execute_result"
    }
   ],
   "source": [
    "a = ['a','b','c','d','e','f','g']\n",
    "a[1:5:2]"
   ]
  },
  {
   "cell_type": "code",
   "execution_count": 47,
   "id": "38db7ea4",
   "metadata": {},
   "outputs": [
    {
     "data": {
      "text/plain": [
       "'good$morning'"
      ]
     },
     "execution_count": 47,
     "metadata": {},
     "output_type": "execute_result"
    }
   ],
   "source": [
    "s1 = ['good','morning']\n",
    "'$'.join(s1)"
   ]
  },
  {
   "cell_type": "code",
   "execution_count": 42,
   "id": "3ef3fc9f",
   "metadata": {},
   "outputs": [
    {
     "data": {
      "text/plain": [
       "['', 'bbbbbbbbb', 'bbbbb', 'bbb', 'b']"
      ]
     },
     "execution_count": 42,
     "metadata": {},
     "output_type": "execute_result"
    }
   ],
   "source": [
    "s2 = 'abbbbbbbbbabbbbbabbbab'\n",
    "words = s2.split('a')\n",
    "words"
   ]
  },
  {
   "cell_type": "code",
   "execution_count": 44,
   "id": "d80f4bf8",
   "metadata": {},
   "outputs": [
    {
     "data": {
      "text/plain": [
       "['b', 'bbb', 'bbbbb', 'bbbbbbbbb', '']"
      ]
     },
     "execution_count": 44,
     "metadata": {},
     "output_type": "execute_result"
    }
   ],
   "source": [
    "words = words[-1::-1]\n",
    "words"
   ]
  },
  {
   "cell_type": "code",
   "execution_count": 45,
   "id": "09ba4063",
   "metadata": {},
   "outputs": [
    {
     "data": {
      "text/plain": [
       "(1, 2, 3, [11, 22, 33])"
      ]
     },
     "execution_count": 45,
     "metadata": {},
     "output_type": "execute_result"
    }
   ],
   "source": [
    "t1 = (1,2,3,[11,22,33])\n",
    "t1"
   ]
  },
  {
   "cell_type": "code",
   "execution_count": 46,
   "id": "96e60e12",
   "metadata": {},
   "outputs": [
    {
     "data": {
      "text/plain": [
       "(1, 2, 3, [111, 22, 33])"
      ]
     },
     "execution_count": 46,
     "metadata": {},
     "output_type": "execute_result"
    }
   ],
   "source": [
    "t1[3][0] = 111\n",
    "t1"
   ]
  },
  {
   "cell_type": "code",
   "execution_count": 51,
   "id": "37e7a7a3",
   "metadata": {},
   "outputs": [
    {
     "data": {
      "text/plain": [
       "11"
      ]
     },
     "execution_count": 51,
     "metadata": {},
     "output_type": "execute_result"
    }
   ],
   "source": [
    "t2 = (11,)\n",
    "t3 = ()\n",
    "t2[0]"
   ]
  },
  {
   "cell_type": "code",
   "execution_count": 70,
   "id": "4bcc67db",
   "metadata": {
    "scrolled": true
   },
   "outputs": [
    {
     "name": "stdout",
     "output_type": "stream",
     "text": [
      "{'b', 'c', 'a'}\n",
      "{'j', 'e', 'c', 'k', 'a', 'i', 'g', 'f', 'b', 'h', 'd'}\n",
      "{'e', 'f', 'd', 'g'}\n",
      "{'j', 'k', 'c', 'a', 'i', 'b', 'h'}\n",
      "{1, 2, 3, 4, 5}\n"
     ]
    }
   ],
   "source": [
    "# set\n",
    "se1 = set('abcdefg')\n",
    "se2 = set('defghijk')\n",
    "v = [1,2,3,4,5]\n",
    "se3 = set(v)\n",
    "print(se1-se2)\n",
    "print(se1|se2)\n",
    "print(se1&se2)\n",
    "print(se1^se2)\n",
    "print(se3)"
   ]
  },
  {
   "cell_type": "code",
   "execution_count": 66,
   "id": "fe56b6e0",
   "metadata": {},
   "outputs": [
    {
     "data": {
      "text/plain": [
       "['a', 'b', 'c', 'd', 'e']"
      ]
     },
     "execution_count": 66,
     "metadata": {},
     "output_type": "execute_result"
    }
   ],
   "source": [
    "a1 = ['e','d','c','b','a']\n",
    "for i in range(len(a1)-1):\n",
    "    for j in range(len(a1)-1-i):\n",
    "        if a1[j] > a1[j+1]:\n",
    "            tmp = a1[j]\n",
    "            a1[j]=a1[j+1]\n",
    "            a1[j+1]=tmp\n",
    "a1"
   ]
  },
  {
   "cell_type": "code",
   "execution_count": 105,
   "id": "addb125e",
   "metadata": {},
   "outputs": [
    {
     "name": "stdout",
     "output_type": "stream",
     "text": [
      "{'a': 18, 'b': 19, 'c': 16}\n",
      "{0: 0, 1: 1, 2: 4, 3: 9, 4: 16, 5: 25, 6: 36, 7: 49, 8: 64, 9: 81}\n"
     ]
    }
   ],
   "source": [
    "# dictionary\n",
    "print(dict([('a',18),('b',19),('c',16)]))\n",
    "print({x:x**2 for x in range(10)})"
   ]
  },
  {
   "cell_type": "code",
   "execution_count": 29,
   "id": "fdb5d913",
   "metadata": {},
   "outputs": [
    {
     "data": {
      "text/plain": [
       "9"
      ]
     },
     "execution_count": 29,
     "metadata": {},
     "output_type": "execute_result"
    }
   ],
   "source": [
    "math.log10(100)\n",
    "pow(3,2)"
   ]
  },
  {
   "cell_type": "code",
   "execution_count": 50,
   "id": "1725424a",
   "metadata": {},
   "outputs": [
    {
     "data": {
      "text/plain": [
       "'Aa3'"
      ]
     },
     "execution_count": 50,
     "metadata": {},
     "output_type": "execute_result"
    }
   ],
   "source": [
    "'aa3'.capitalize()"
   ]
  },
  {
   "cell_type": "code",
   "execution_count": 54,
   "id": "9075f347",
   "metadata": {},
   "outputs": [
    {
     "data": {
      "text/plain": [
       "3"
      ]
     },
     "execution_count": 54,
     "metadata": {},
     "output_type": "execute_result"
    }
   ],
   "source": [
    "min([3,6,9])"
   ]
  },
  {
   "cell_type": "code",
   "execution_count": 71,
   "id": "05005534",
   "metadata": {},
   "outputs": [],
   "source": [
    "#!/Desktop/python3\n",
    "# Filename: support.py\n",
    "\n",
    "def select(x):\n",
    "    print('hello',x)"
   ]
  },
  {
   "cell_type": "code",
   "execution_count": 73,
   "id": "876446f6",
   "metadata": {},
   "outputs": [
    {
     "name": "stdout",
     "output_type": "stream",
     "text": [
      "命令行参数如下:\n",
      "C:\\Users\\songl\\anaconda3\\envs\\pythonEx\\lib\\site-packages\\ipykernel_launcher.py\n",
      "-f\n",
      "C:\\Users\\songl\\AppData\\Roaming\\jupyter\\runtime\\kernel-1fd7bd4d-f086-451e-a11c-f360fe9218e9.json\n",
      "\n",
      "\n",
      "Python 路径为： ['C:\\\\Users\\\\songl\\\\Desktop\\\\GDipSA 53\\\\Machine Learning in Python\\\\python Basics', 'C:\\\\Users\\\\songl\\\\anaconda3\\\\envs\\\\pythonEx\\\\python39.zip', 'C:\\\\Users\\\\songl\\\\anaconda3\\\\envs\\\\pythonEx\\\\DLLs', 'C:\\\\Users\\\\songl\\\\anaconda3\\\\envs\\\\pythonEx\\\\lib', 'C:\\\\Users\\\\songl\\\\anaconda3\\\\envs\\\\pythonEx', '', 'C:\\\\Users\\\\songl\\\\anaconda3\\\\envs\\\\pythonEx\\\\lib\\\\site-packages', 'C:\\\\Users\\\\songl\\\\anaconda3\\\\envs\\\\pythonEx\\\\lib\\\\site-packages\\\\win32', 'C:\\\\Users\\\\songl\\\\anaconda3\\\\envs\\\\pythonEx\\\\lib\\\\site-packages\\\\win32\\\\lib', 'C:\\\\Users\\\\songl\\\\anaconda3\\\\envs\\\\pythonEx\\\\lib\\\\site-packages\\\\Pythonwin', 'C:\\\\Users\\\\songl\\\\anaconda3\\\\envs\\\\pythonEx\\\\lib\\\\site-packages\\\\IPython\\\\extensions', 'C:\\\\Users\\\\songl\\\\.ipython'] \n",
      "\n"
     ]
    }
   ],
   "source": [
    " import sys\n",
    " \n",
    "print('命令行参数如下:')\n",
    "for i in sys.argv:\n",
    "   print(i)\n",
    " \n",
    "print('\\n\\nPython 路径为：', sys.path, '\\n')"
   ]
  },
  {
   "cell_type": "markdown",
   "id": "5e5cdcc3",
   "metadata": {},
   "source": [
    "# matplotlib"
   ]
  },
  {
   "cell_type": "code",
   "execution_count": 75,
   "id": "1ee6b862",
   "metadata": {},
   "outputs": [],
   "source": [
    "import matplotlib.pyplot as plt\n",
    "import numpy as np\n",
    "import pandas as pd\n",
    "import seaborn as sb"
   ]
  },
  {
   "cell_type": "code",
   "execution_count": 77,
   "id": "1b47a0f9",
   "metadata": {},
   "outputs": [
    {
     "data": {
      "text/plain": [
       "[<matplotlib.lines.Line2D at 0x20d3739f6d0>]"
      ]
     },
     "execution_count": 77,
     "metadata": {},
     "output_type": "execute_result"
    },
    {
     "data": {
      "image/png": "[encoded data removed]",
      "text/plain": [
       "<Figure size 432x288 with 1 Axes>"
      ]
     },
     "metadata": {
      "needs_background": "light"
     },
     "output_type": "display_data"
    }
   ],
   "source": [
    "x=[0,1,2,3]\n",
    "y=[10,10,30,40]\n",
    "plt.plot(x,y)"
   ]
  },
  {
   "cell_type": "code",
   "execution_count": 102,
   "id": "83706b34",
   "metadata": {},
   "outputs": [
    {
     "data": {
      "text/plain": [
       "[<matplotlib.lines.Line2D at 0x20d38e02820>]"
      ]
     },
     "execution_count": 102,
     "metadata": {},
     "output_type": "execute_result"
    },
    {
     "data": {
      "image/png": "[encoded data removed]",
      "text/plain": [
       "<Figure size 432x288 with 1 Axes>"
      ]
     },
     "metadata": {
      "needs_background": "light"
     },
     "output_type": "display_data"
    }
   ],
   "source": [
    "plt.plot(x, y, 'b.')"
   ]
  },
  {
   "cell_type": "code",
   "execution_count": 138,
   "id": "aa945e2f",
   "metadata": {},
   "outputs": [
    {
     "data": {
      "image/png": "[encoded data removed]",
      "text/plain": [
       "<Figure size 432x288 with 1 Axes>"
      ]
     },
     "metadata": {
      "needs_background": "light"
     },
     "output_type": "display_data"
    }
   ],
   "source": [
    "y=[10,5,11,6,13,7,14,8,15]\n",
    "plt.plot(y, 'o-.c')\n",
    "plt.show()"
   ]
  },
  {
   "cell_type": "code",
   "execution_count": 118,
   "id": "6c2c8984",
   "metadata": {},
   "outputs": [
    {
     "data": {
      "text/plain": [
       "1.2246467991473532e-16"
      ]
     },
     "execution_count": 118,
     "metadata": {},
     "output_type": "execute_result"
    }
   ],
   "source": [
    "import math\n",
    "math.sin(np.pi)"
   ]
  },
  {
   "cell_type": "code",
   "execution_count": 129,
   "id": "70a1e8a5",
   "metadata": {
    "scrolled": false
   },
   "outputs": [
    {
     "data": {
      "image/png": "[encoded data removed]",
      "text/plain": [
       "<Figure size 432x288 with 1 Axes>"
      ]
     },
     "metadata": {
      "needs_background": "light"
     },
     "output_type": "display_data"
    }
   ],
   "source": [
    "x=np.arange(0, 5*2*np.pi, 0.01)\n",
    "y=np.sin(x)\n",
    "z=np.cos(x)\n",
    "plt.plot(x,y,x,z)\n",
    "plt.show()"
   ]
  },
  {
   "cell_type": "code",
   "execution_count": 148,
   "id": "1f7c03e6",
   "metadata": {},
   "outputs": [
    {
     "data": {
      "text/plain": [
       "Text(0, 1, 'y - label')"
      ]
     },
     "execution_count": 148,
     "metadata": {},
     "output_type": "execute_result"
    },
    {
     "data": {
      "image/png": "[encoded data removed]",
      "text/plain": [
       "<Figure size 432x288 with 1 Axes>"
      ]
     },
     "metadata": {
      "needs_background": "light"
     },
     "output_type": "display_data"
    }
   ],
   "source": [
    "y1=[1,2,3]\n",
    "y2=[2,3,4]\n",
    "\n",
    "plt.plot(y1,'v-.c')\n",
    "plt.plot(y2,'+-r')\n",
    "plt.xlabel(\"x - label\", loc='center')\n",
    "plt.ylabel(\"y - label\", loc='top')"
   ]
  },
  {
   "cell_type": "code",
   "execution_count": 159,
   "id": "c96b25a6",
   "metadata": {},
   "outputs": [
    {
     "data": {
      "image/png": "[encoded data removed]",
      "text/plain": [
       "<Figure size 432x288 with 1 Axes>"
      ]
     },
     "metadata": {
      "needs_background": "light"
     },
     "output_type": "display_data"
    }
   ],
   "source": [
    "plt.plot(y2,'+-r')\n",
    "plt.title('here title', loc='right')\n",
    "plt.grid(color='c', axis='y', linestyle='-.')"
   ]
  },
  {
   "cell_type": "code",
   "execution_count": 179,
   "id": "53363e84",
   "metadata": {},
   "outputs": [
    {
     "data": {
      "image/png": "[encoded data removed]",
      "text/plain": [
       "<Figure size 432x288 with 1 Axes>"
      ]
     },
     "metadata": {
      "needs_background": "light"
     },
     "output_type": "display_data"
    }
   ],
   "source": [
    "x=[0,1,2,3,4,5,6,7,8,9]\n",
    "y=[10,11,22,33,44,55,66,77,88,99]\n",
    "sb.scatterplot(x,y)\n",
    "plt.show()"
   ]
  },
  {
   "cell_type": "code",
   "execution_count": 181,
   "id": "30dd165f",
   "metadata": {},
   "outputs": [
    {
     "data": {
      "text/plain": [
       "3"
      ]
     },
     "execution_count": 181,
     "metadata": {},
     "output_type": "execute_result"
    }
   ],
   "source": [
    "a = np.array([[1,2],[3,4],[5,6]])\n",
    "a[1,0]"
   ]
  },
  {
   "cell_type": "code",
   "execution_count": 182,
   "id": "056557cf",
   "metadata": {},
   "outputs": [
    {
     "data": {
      "text/plain": [
       "3"
      ]
     },
     "execution_count": 182,
     "metadata": {},
     "output_type": "execute_result"
    }
   ],
   "source": [
    "a[1][0]"
   ]
  },
  {
   "cell_type": "code",
   "execution_count": 184,
   "id": "6851710f",
   "metadata": {},
   "outputs": [
    {
     "data": {
      "text/plain": [
       "2"
      ]
     },
     "execution_count": 184,
     "metadata": {},
     "output_type": "execute_result"
    }
   ],
   "source": [
    "b = [[1,2,3,4,5]]\n",
    "b[0][1]"
   ]
  },
  {
   "cell_type": "code",
   "execution_count": 204,
   "id": "4263ec71",
   "metadata": {},
   "outputs": [
    {
     "data": {
      "text/plain": [
       "'\\nfor i in range(3):\\n    print(i)\\n    arr = [i]\\n    print(arr)\\n    \\n    sb.scatterplot(a[arr,0], a[arr,1])\\n'"
      ]
     },
     "execution_count": 204,
     "metadata": {},
     "output_type": "execute_result"
    },
    {
     "data": {
      "image/png": "[encoded data removed]",
      "text/plain": [
       "<Figure size 432x288 with 1 Axes>"
      ]
     },
     "metadata": {
      "needs_background": "light"
     },
     "output_type": "display_data"
    }
   ],
   "source": [
    "a = np.array([[1,2],[3,4],[5,6]])\n",
    "sb.scatterplot(a[:,0] ,a[:,1])\n",
    "'''\n",
    "for i in range(3):\n",
    "    print(i)\n",
    "    arr = [i]\n",
    "    print(arr)\n",
    "    \n",
    "    sb.scatterplot(a[arr,0], a[arr,1])\n",
    "'''\n",
    "    "
   ]
  },
  {
   "cell_type": "code",
   "execution_count": 53,
   "id": "ef8a481a",
   "metadata": {
    "scrolled": true
   },
   "outputs": [
    {
     "data": {
      "text/plain": [
       "array([[ 7,  7, 66],\n",
       "       [95, 87, 90],\n",
       "       [37, 18, 21],\n",
       "       [48, 90, 30],\n",
       "       [90, 31, 39],\n",
       "       [54,  5, 56],\n",
       "       [87, 46, 54],\n",
       "       [28, 76, 28],\n",
       "       [95, 36, 29],\n",
       "       [80, 22, 63],\n",
       "       [61, 16, 84],\n",
       "       [25, 60, 36],\n",
       "       [72, 55, 20],\n",
       "       [41, 20, 62],\n",
       "       [17, 31, 53],\n",
       "       [45, 95, 26],\n",
       "       [31, 93, 57],\n",
       "       [91,  8, 66],\n",
       "       [49, 11, 19],\n",
       "       [62,  9, 24],\n",
       "       [62, 78, 46],\n",
       "       [40, 58, 50],\n",
       "       [79, 62, 34],\n",
       "       [53,  7, 44],\n",
       "       [63, 59, 51],\n",
       "       [74, 16, 76],\n",
       "       [54, 12, 25],\n",
       "       [35,  7, 97],\n",
       "       [78, 21, 27],\n",
       "       [81, 18, 87],\n",
       "       [28, 23, 17],\n",
       "       [11, 10, 33],\n",
       "       [41, 81, 35],\n",
       "       [17, 16, 26],\n",
       "       [73, 86, 75],\n",
       "       [ 0, 84, 39],\n",
       "       [ 4,  2, 69],\n",
       "       [46, 67, 16],\n",
       "       [18, 17, 60],\n",
       "       [90,  5, 56],\n",
       "       [51, 79,  8],\n",
       "       [72, 55,  7],\n",
       "       [59, 12, 89],\n",
       "       [15, 24, 46],\n",
       "       [88, 82, 49],\n",
       "       [91,  5, 22],\n",
       "       [55, 30, 86],\n",
       "       [58, 72, 56],\n",
       "       [70, 41, 54],\n",
       "       [35, 21, 16],\n",
       "       [95,  1, 56],\n",
       "       [90, 54, 33],\n",
       "       [28, 48, 49],\n",
       "       [93, 99, 84],\n",
       "       [ 9, 44, 52],\n",
       "       [34,  2, 95],\n",
       "       [98, 11, 88],\n",
       "       [90, 65, 98],\n",
       "       [47, 55, 34],\n",
       "       [99, 39, 75],\n",
       "       [71, 76, 12],\n",
       "       [42, 20, 16],\n",
       "       [73, 94, 67],\n",
       "       [48,  2, 56],\n",
       "       [ 1, 94, 36],\n",
       "       [25, 97, 67],\n",
       "       [60, 21,  8],\n",
       "       [45, 44, 93],\n",
       "       [53, 98, 51],\n",
       "       [61, 27, 32],\n",
       "       [99, 74, 78],\n",
       "       [57, 58, 28],\n",
       "       [37,  7, 65],\n",
       "       [37, 29, 23],\n",
       "       [88, 25, 73],\n",
       "       [98, 53, 80],\n",
       "       [13, 98, 38],\n",
       "       [61, 20,  7],\n",
       "       [18, 22,  8],\n",
       "       [ 2, 57,  3],\n",
       "       [97,  5, 72],\n",
       "       [66, 51, 46],\n",
       "       [70, 47, 71],\n",
       "       [70, 85, 77],\n",
       "       [79, 16, 92],\n",
       "       [63, 58, 24],\n",
       "       [20, 28, 77],\n",
       "       [53, 69, 61],\n",
       "       [11, 75,  5],\n",
       "       [70, 43, 12],\n",
       "       [26, 51, 27],\n",
       "       [64, 79, 37],\n",
       "       [60, 39, 67],\n",
       "       [ 6, 27, 29],\n",
       "       [ 7, 59, 83],\n",
       "       [21, 50, 82],\n",
       "       [90, 71, 71],\n",
       "       [87,  4,  0],\n",
       "       [ 0, 99, 92],\n",
       "       [64, 36, 13],\n",
       "       [64, 20, 25],\n",
       "       [63, 87, 13],\n",
       "       [85, 66, 27],\n",
       "       [97, 61, 24],\n",
       "       [ 2, 39, 86],\n",
       "       [54, 45, 81],\n",
       "       [ 0,  5, 76],\n",
       "       [62, 92, 28],\n",
       "       [49, 95, 10],\n",
       "       [26, 92, 46],\n",
       "       [24, 33, 81],\n",
       "       [94, 95, 42],\n",
       "       [21, 77, 35],\n",
       "       [44, 30, 15],\n",
       "       [63, 10, 28],\n",
       "       [17, 33, 71],\n",
       "       [83, 66, 75],\n",
       "       [60, 72, 82],\n",
       "       [61, 29,  4],\n",
       "       [99,  3, 45],\n",
       "       [32, 67, 68],\n",
       "       [13, 36, 67],\n",
       "       [99,  1, 90],\n",
       "       [15, 89, 20],\n",
       "       [63, 97, 52],\n",
       "       [46,  5, 65],\n",
       "       [92, 78, 20],\n",
       "       [69, 81, 99],\n",
       "       [10, 54,  4],\n",
       "       [46, 12, 47],\n",
       "       [92, 70, 41],\n",
       "       [32, 69, 34],\n",
       "       [22, 85, 60],\n",
       "       [96, 52, 12],\n",
       "       [72, 86, 36],\n",
       "       [47, 63, 99],\n",
       "       [66, 89, 14],\n",
       "       [84, 37, 70],\n",
       "       [94, 35, 25],\n",
       "       [73, 43, 38],\n",
       "       [29, 65, 39],\n",
       "       [40,  9,  1],\n",
       "       [38, 92, 88],\n",
       "       [84, 82, 65],\n",
       "       [98, 53, 71],\n",
       "       [43, 47, 59],\n",
       "       [30, 70, 16],\n",
       "       [88, 86, 56],\n",
       "       [56,  2, 59],\n",
       "       [21, 60, 53]])"
      ]
     },
     "execution_count": 53,
     "metadata": {},
     "output_type": "execute_result"
    }
   ],
   "source": [
    "import numpy as np\n",
    "a = np.random.randint(0,100,(150,3))\n",
    "a"
   ]
  },
  {
   "cell_type": "code",
   "execution_count": 54,
   "id": "0302a804",
   "metadata": {
    "scrolled": true
   },
   "outputs": [
    {
     "data": {
      "text/plain": [
       "array([ 80, 272,  76, 168, 160, 115, 187, 132, 160, 165, 161, 121, 147,\n",
       "       123, 101, 166, 181, 165,  79,  95, 186, 148, 175, 104, 173, 166,\n",
       "        91, 139, 126, 186,  68,  54, 157,  59, 234, 123,  75, 129,  95,\n",
       "       151, 138, 134, 160,  85, 219, 118, 171, 186, 165,  72, 152, 177,\n",
       "       125, 276, 105, 131, 197, 253, 136, 213, 159,  78, 234, 106, 131,\n",
       "       189,  89, 182, 202, 120, 251, 143, 109,  89, 186, 231, 149,  88,\n",
       "        48,  62, 174, 163, 188, 232, 187, 145, 125, 183,  91, 125, 104,\n",
       "       180, 166,  62, 149, 153, 232,  91, 191, 113, 109, 163, 178, 182,\n",
       "       127, 180,  81, 182, 154, 164, 138, 231, 133,  89, 101, 121, 224,\n",
       "       214,  94, 147, 167, 116, 190, 124, 212, 116, 190, 249,  68, 105,\n",
       "       203, 135, 167, 160, 194, 209, 169, 191, 154, 154, 133,  50, 218,\n",
       "       231, 222, 149, 116, 230, 117, 134])"
      ]
     },
     "execution_count": 54,
     "metadata": {},
     "output_type": "execute_result"
    }
   ],
   "source": [
    "a_sum = np.array([x.sum() for x in a])\n",
    "a_sum"
   ]
  },
  {
   "cell_type": "code",
   "execution_count": 55,
   "id": "cb8ab561",
   "metadata": {},
   "outputs": [],
   "source": [
    "x_train = a\n",
    "y_train = a_sum"
   ]
  },
  {
   "cell_type": "code",
   "execution_count": 56,
   "id": "ad9331f7",
   "metadata": {},
   "outputs": [],
   "source": [
    "import tensorflow as tf"
   ]
  },
  {
   "cell_type": "code",
   "execution_count": 57,
   "id": "3c8a1cb4",
   "metadata": {},
   "outputs": [],
   "source": [
    "nn = tf.keras.Sequential()"
   ]
  },
  {
   "cell_type": "code",
   "execution_count": 58,
   "id": "092075c6",
   "metadata": {},
   "outputs": [],
   "source": [
    "nn.add(tf.keras.layers.Dense(500, input_shape=(x_train.shape[1],), activation='relu'))\n",
    "nn.add(tf.keras.layers.Dense(1))\n",
    "nn.compile(optimizer='adam', loss='mse', metrics=None)"
   ]
  },
  {
   "cell_type": "code",
   "execution_count": 61,
   "id": "809bfa5a",
   "metadata": {
    "scrolled": true
   },
   "outputs": [
    {
     "name": "stdout",
     "output_type": "stream",
     "text": [
      "Epoch 1/200\n",
      "5/5 [==============================] - 0s 801us/step - loss: 0.0012\n",
      "Epoch 2/200\n",
      "5/5 [==============================] - 0s 601us/step - loss: 0.0011\n",
      "Epoch 3/200\n",
      "5/5 [==============================] - 0s 600us/step - loss: 0.0012\n",
      "Epoch 4/200\n",
      "5/5 [==============================] - 0s 602us/step - loss: 0.0013\n",
      "Epoch 5/200\n",
      "5/5 [==============================] - 0s 799us/step - loss: 0.0013\n",
      "Epoch 6/200\n",
      "5/5 [==============================] - 0s 400us/step - loss: 0.0013\n",
      "Epoch 7/200\n",
      "5/5 [==============================] - 0s 598us/step - loss: 0.0014\n",
      "Epoch 8/200\n",
      "5/5 [==============================] - 0s 1ms/step - loss: 0.0011\n",
      "Epoch 9/200\n",
      "5/5 [==============================] - 0s 509us/step - loss: 0.0011\n",
      "Epoch 10/200\n",
      "5/5 [==============================] - 0s 692us/step - loss: 0.0012\n",
      "Epoch 11/200\n",
      "5/5 [==============================] - 0s 1ms/step - loss: 0.0010\n",
      "Epoch 12/200\n",
      "5/5 [==============================] - 0s 400us/step - loss: 0.0011\n",
      "Epoch 13/200\n",
      "5/5 [==============================] - 0s 800us/step - loss: 0.0010\n",
      "Epoch 14/200\n",
      "5/5 [==============================] - 0s 1ms/step - loss: 0.0010\n",
      "Epoch 15/200\n",
      "5/5 [==============================] - 0s 600us/step - loss: 0.0010\n",
      "Epoch 16/200\n",
      "5/5 [==============================] - 0s 2ms/step - loss: 0.0012\n",
      "Epoch 17/200\n",
      "5/5 [==============================] - 0s 598us/step - loss: 9.8829e-04\n",
      "Epoch 18/200\n",
      "5/5 [==============================] - 0s 1ms/step - loss: 9.7689e-04\n",
      "Epoch 19/200\n",
      "5/5 [==============================] - 0s 602us/step - loss: 0.0011\n",
      "Epoch 20/200\n",
      "5/5 [==============================] - 0s 1ms/step - loss: 9.8920e-04\n",
      "Epoch 21/200\n",
      "5/5 [==============================] - 0s 600us/step - loss: 0.0011\n",
      "Epoch 22/200\n",
      "5/5 [==============================] - 0s 401us/step - loss: 9.9895e-04\n",
      "Epoch 23/200\n",
      "5/5 [==============================] - 0s 599us/step - loss: 9.5597e-04\n",
      "Epoch 24/200\n",
      "5/5 [==============================] - 0s 1ms/step - loss: 9.6335e-04\n",
      "Epoch 25/200\n",
      "5/5 [==============================] - 0s 600us/step - loss: 8.8800e-04\n",
      "Epoch 26/200\n",
      "5/5 [==============================] - 0s 600us/step - loss: 9.1796e-04\n",
      "Epoch 27/200\n",
      "5/5 [==============================] - 0s 1000us/step - loss: 9.2093e-04\n",
      "Epoch 28/200\n",
      "5/5 [==============================] - 0s 600us/step - loss: 8.8026e-04\n",
      "Epoch 29/200\n",
      "5/5 [==============================] - 0s 400us/step - loss: 8.8826e-04\n",
      "Epoch 30/200\n",
      "5/5 [==============================] - 0s 1ms/step - loss: 8.8387e-04\n",
      "Epoch 31/200\n",
      "5/5 [==============================] - 0s 600us/step - loss: 8.8824e-04\n",
      "Epoch 32/200\n",
      "5/5 [==============================] - 0s 600us/step - loss: 8.9564e-04\n",
      "Epoch 33/200\n",
      "5/5 [==============================] - 0s 1ms/step - loss: 8.6229e-04\n",
      "Epoch 34/200\n",
      "5/5 [==============================] - 0s 600us/step - loss: 8.5150e-04\n",
      "Epoch 35/200\n",
      "5/5 [==============================] - 0s 600us/step - loss: 8.5618e-04\n",
      "Epoch 36/200\n",
      "5/5 [==============================] - 0s 1ms/step - loss: 9.7899e-04\n",
      "Epoch 37/200\n",
      "5/5 [==============================] - 0s 600us/step - loss: 8.9254e-04\n",
      "Epoch 38/200\n",
      "5/5 [==============================] - 0s 600us/step - loss: 9.1783e-04\n",
      "Epoch 39/200\n",
      "5/5 [==============================] - 0s 1ms/step - loss: 8.3136e-04\n",
      "Epoch 40/200\n",
      "5/5 [==============================] - 0s 601us/step - loss: 8.2124e-04\n",
      "Epoch 41/200\n",
      "5/5 [==============================] - 0s 600us/step - loss: 8.5293e-04\n",
      "Epoch 42/200\n",
      "5/5 [==============================] - 0s 1ms/step - loss: 0.0013\n",
      "Epoch 43/200\n",
      "5/5 [==============================] - 0s 600us/step - loss: 0.0011\n",
      "Epoch 44/200\n",
      "5/5 [==============================] - 0s 800us/step - loss: 0.0012\n",
      "Epoch 45/200\n",
      "5/5 [==============================] - 0s 600us/step - loss: 0.0011\n",
      "Epoch 46/200\n",
      "5/5 [==============================] - 0s 400us/step - loss: 9.8963e-04\n",
      "Epoch 47/200\n",
      "5/5 [==============================] - 0s 823us/step - loss: 0.0012\n",
      "Epoch 48/200\n",
      "5/5 [==============================] - 0s 633us/step - loss: 0.0012\n",
      "Epoch 49/200\n",
      "5/5 [==============================] - 0s 600us/step - loss: 0.0015\n",
      "Epoch 50/200\n",
      "5/5 [==============================] - 0s 1ms/step - loss: 0.0012\n",
      "Epoch 51/200\n",
      "5/5 [==============================] - 0s 998us/step - loss: 0.0015\n",
      "Epoch 52/200\n",
      "5/5 [==============================] - 0s 400us/step - loss: 8.9095e-04\n",
      "Epoch 53/200\n",
      "5/5 [==============================] - 0s 800us/step - loss: 8.2500e-04\n",
      "Epoch 54/200\n",
      "5/5 [==============================] - 0s 1ms/step - loss: 8.2688e-04\n",
      "Epoch 55/200\n",
      "5/5 [==============================] - 0s 400us/step - loss: 8.7971e-04\n",
      "Epoch 56/200\n",
      "5/5 [==============================] - 0s 600us/step - loss: 8.9021e-04\n",
      "Epoch 57/200\n",
      "5/5 [==============================] - 0s 1ms/step - loss: 8.6721e-04\n",
      "Epoch 58/200\n",
      "5/5 [==============================] - 0s 600us/step - loss: 9.2004e-04\n",
      "Epoch 59/200\n",
      "5/5 [==============================] - 0s 600us/step - loss: 8.4329e-04\n",
      "Epoch 60/200\n",
      "5/5 [==============================] - 0s 1ms/step - loss: 9.5246e-04\n",
      "Epoch 61/200\n",
      "5/5 [==============================] - 0s 644us/step - loss: 0.0012\n",
      "Epoch 62/200\n",
      "5/5 [==============================] - 0s 600us/step - loss: 9.7955e-04\n",
      "Epoch 63/200\n",
      "5/5 [==============================] - 0s 600us/step - loss: 9.1941e-04\n",
      "Epoch 64/200\n",
      "5/5 [==============================] - 0s 800us/step - loss: 8.8702e-04\n",
      "Epoch 65/200\n",
      "5/5 [==============================] - 0s 1ms/step - loss: 8.0312e-04\n",
      "Epoch 66/200\n",
      "5/5 [==============================] - 0s 600us/step - loss: 7.9893e-04\n",
      "Epoch 67/200\n",
      "5/5 [==============================] - 0s 1ms/step - loss: 0.0010\n",
      "Epoch 68/200\n",
      "5/5 [==============================] - 0s 600us/step - loss: 8.6331e-04\n",
      "Epoch 69/200\n",
      "5/5 [==============================] - 0s 1ms/step - loss: 9.8784e-04\n",
      "Epoch 70/200\n",
      "5/5 [==============================] - 0s 600us/step - loss: 9.6273e-04\n",
      "Epoch 71/200\n",
      "5/5 [==============================] - 0s 600us/step - loss: 8.5109e-04\n",
      "Epoch 72/200\n",
      "5/5 [==============================] - 0s 2ms/step - loss: 8.0363e-04\n",
      "Epoch 73/200\n",
      "5/5 [==============================] - 0s 800us/step - loss: 9.8146e-04\n",
      "Epoch 74/200\n",
      "5/5 [==============================] - 0s 722us/step - loss: 9.4862e-04\n",
      "Epoch 75/200\n",
      "5/5 [==============================] - 0s 600us/step - loss: 9.5909e-04\n",
      "Epoch 76/200\n",
      "5/5 [==============================] - 0s 600us/step - loss: 8.2386e-04\n",
      "Epoch 77/200\n",
      "5/5 [==============================] - 0s 671us/step - loss: 9.0761e-04\n",
      "Epoch 78/200\n",
      "5/5 [==============================] - 0s 601us/step - loss: 7.5427e-04\n",
      "Epoch 79/200\n",
      "5/5 [==============================] - 0s 617us/step - loss: 7.7999e-04\n",
      "Epoch 80/200\n",
      "5/5 [==============================] - 0s 400us/step - loss: 0.0010\n",
      "Epoch 81/200\n",
      "5/5 [==============================] - 0s 600us/step - loss: 8.1389e-04\n",
      "Epoch 82/200\n",
      "5/5 [==============================] - 0s 600us/step - loss: 7.4119e-04\n",
      "Epoch 83/200\n",
      "5/5 [==============================] - 0s 597us/step - loss: 8.1622e-04\n",
      "Epoch 84/200\n",
      "5/5 [==============================] - 0s 600us/step - loss: 7.8171e-04\n",
      "Epoch 85/200\n",
      "5/5 [==============================] - 0s 695us/step - loss: 0.0010\n",
      "Epoch 86/200\n",
      "5/5 [==============================] - 0s 639us/step - loss: 8.5220e-04\n",
      "Epoch 87/200\n",
      "5/5 [==============================] - 0s 599us/step - loss: 7.8779e-04\n",
      "Epoch 88/200\n",
      "5/5 [==============================] - 0s 600us/step - loss: 7.8217e-04\n",
      "Epoch 89/200\n",
      "5/5 [==============================] - 0s 600us/step - loss: 8.0555e-04\n",
      "Epoch 90/200\n",
      "5/5 [==============================] - 0s 600us/step - loss: 8.0056e-04\n",
      "Epoch 91/200\n",
      "5/5 [==============================] - 0s 600us/step - loss: 6.6366e-04\n",
      "Epoch 92/200\n",
      "5/5 [==============================] - 0s 661us/step - loss: 7.6029e-04\n",
      "Epoch 93/200\n",
      "5/5 [==============================] - 0s 400us/step - loss: 8.9249e-04\n",
      "Epoch 94/200\n",
      "5/5 [==============================] - 0s 600us/step - loss: 7.9905e-04\n",
      "Epoch 95/200\n",
      "5/5 [==============================] - 0s 470us/step - loss: 6.9407e-04\n",
      "Epoch 96/200\n",
      "5/5 [==============================] - 0s 600us/step - loss: 6.4916e-04\n",
      "Epoch 97/200\n",
      "5/5 [==============================] - 0s 400us/step - loss: 6.3708e-04\n",
      "Epoch 98/200\n",
      "5/5 [==============================] - 0s 465us/step - loss: 6.7612e-04\n",
      "Epoch 99/200\n",
      "5/5 [==============================] - 0s 598us/step - loss: 6.8415e-04\n",
      "Epoch 100/200\n",
      "5/5 [==============================] - 0s 600us/step - loss: 6.5303e-04\n",
      "Epoch 101/200\n",
      "5/5 [==============================] - 0s 463us/step - loss: 7.9770e-04\n",
      "Epoch 102/200\n",
      "5/5 [==============================] - 0s 1ms/step - loss: 8.4018e-04\n",
      "Epoch 103/200\n",
      "5/5 [==============================] - 0s 400us/step - loss: 6.6163e-04\n",
      "Epoch 104/200\n",
      "5/5 [==============================] - 0s 800us/step - loss: 8.0461e-04\n",
      "Epoch 105/200\n",
      "5/5 [==============================] - 0s 1ms/step - loss: 6.7229e-04\n",
      "Epoch 106/200\n",
      "5/5 [==============================] - 0s 600us/step - loss: 7.0214e-04\n",
      "Epoch 107/200\n",
      "5/5 [==============================] - 0s 400us/step - loss: 6.3765e-04\n",
      "Epoch 108/200\n",
      "5/5 [==============================] - 0s 622us/step - loss: 7.0623e-04\n",
      "Epoch 109/200\n",
      "5/5 [==============================] - 0s 600us/step - loss: 6.7184e-04\n",
      "Epoch 110/200\n",
      "5/5 [==============================] - 0s 600us/step - loss: 5.9735e-04\n",
      "Epoch 111/200\n",
      "5/5 [==============================] - 0s 490us/step - loss: 6.3780e-04\n",
      "Epoch 112/200\n",
      "5/5 [==============================] - 0s 1ms/step - loss: 6.1170e-04\n",
      "Epoch 113/200\n",
      "5/5 [==============================] - 0s 612us/step - loss: 6.0578e-04\n",
      "Epoch 114/200\n",
      "5/5 [==============================] - 0s 526us/step - loss: 5.8417e-04\n",
      "Epoch 115/200\n",
      "5/5 [==============================] - 0s 1ms/step - loss: 6.6949e-04\n",
      "Epoch 116/200\n",
      "5/5 [==============================] - 0s 587us/step - loss: 7.6775e-04\n",
      "Epoch 117/200\n",
      "5/5 [==============================] - 0s 600us/step - loss: 7.1796e-04\n",
      "Epoch 118/200\n",
      "5/5 [==============================] - 0s 1ms/step - loss: 6.1377e-04\n",
      "Epoch 119/200\n",
      "5/5 [==============================] - 0s 644us/step - loss: 6.5618e-04\n",
      "Epoch 120/200\n",
      "5/5 [==============================] - 0s 600us/step - loss: 6.4245e-04\n",
      "Epoch 121/200\n",
      "5/5 [==============================] - 0s 1ms/step - loss: 7.3430e-04\n",
      "Epoch 122/200\n",
      "5/5 [==============================] - 0s 600us/step - loss: 8.6796e-04\n",
      "Epoch 123/200\n",
      "5/5 [==============================] - 0s 400us/step - loss: 8.3520e-04\n",
      "Epoch 124/200\n",
      "5/5 [==============================] - 0s 453us/step - loss: 0.0012\n",
      "Epoch 125/200\n",
      "5/5 [==============================] - 0s 600us/step - loss: 9.5975e-04\n",
      "Epoch 126/200\n",
      "5/5 [==============================] - 0s 600us/step - loss: 7.4343e-04\n",
      "Epoch 127/200\n",
      "5/5 [==============================] - 0s 555us/step - loss: 7.3323e-04\n",
      "Epoch 128/200\n",
      "5/5 [==============================] - 0s 600us/step - loss: 6.8337e-04\n",
      "Epoch 129/200\n",
      "5/5 [==============================] - 0s 600us/step - loss: 6.4750e-04\n",
      "Epoch 130/200\n",
      "5/5 [==============================] - 0s 420us/step - loss: 5.8341e-04\n",
      "Epoch 131/200\n",
      "5/5 [==============================] - 0s 600us/step - loss: 6.1558e-04\n",
      "Epoch 132/200\n",
      "5/5 [==============================] - 0s 599us/step - loss: 5.6882e-04\n",
      "Epoch 133/200\n",
      "5/5 [==============================] - 0s 578us/step - loss: 5.6194e-04\n",
      "Epoch 134/200\n",
      "5/5 [==============================] - 0s 400us/step - loss: 6.0519e-04\n",
      "Epoch 135/200\n",
      "5/5 [==============================] - 0s 599us/step - loss: 6.0370e-04\n",
      "Epoch 136/200\n",
      "5/5 [==============================] - 0s 503us/step - loss: 5.8557e-04\n",
      "Epoch 137/200\n",
      "5/5 [==============================] - 0s 600us/step - loss: 5.7701e-04\n",
      "Epoch 138/200\n",
      "5/5 [==============================] - 0s 800us/step - loss: 6.2286e-04\n",
      "Epoch 139/200\n",
      "5/5 [==============================] - 0s 563us/step - loss: 5.6758e-04\n",
      "Epoch 140/200\n",
      "5/5 [==============================] - 0s 798us/step - loss: 5.7045e-04\n",
      "Epoch 141/200\n",
      "5/5 [==============================] - 0s 600us/step - loss: 5.4494e-04\n",
      "Epoch 142/200\n",
      "5/5 [==============================] - 0s 424us/step - loss: 6.6632e-04\n",
      "Epoch 143/200\n",
      "5/5 [==============================] - 0s 2ms/step - loss: 5.2998e-04\n",
      "Epoch 144/200\n",
      "5/5 [==============================] - 0s 800us/step - loss: 5.1636e-04\n",
      "Epoch 145/200\n",
      "5/5 [==============================] - 0s 400us/step - loss: 5.8022e-04\n",
      "Epoch 146/200\n",
      "5/5 [==============================] - 0s 1ms/step - loss: 5.9507e-04\n",
      "Epoch 147/200\n",
      "5/5 [==============================] - 0s 400us/step - loss: 6.1352e-04\n",
      "Epoch 148/200\n",
      "5/5 [==============================] - 0s 516us/step - loss: 5.9312e-04\n",
      "Epoch 149/200\n",
      "5/5 [==============================] - 0s 1ms/step - loss: 6.6847e-04\n",
      "Epoch 150/200\n",
      "5/5 [==============================] - 0s 600us/step - loss: 5.2634e-04\n",
      "Epoch 151/200\n",
      "5/5 [==============================] - 0s 694us/step - loss: 5.7757e-04\n",
      "Epoch 152/200\n",
      "5/5 [==============================] - 0s 827us/step - loss: 5.6438e-04\n",
      "Epoch 153/200\n",
      "5/5 [==============================] - 0s 600us/step - loss: 5.3662e-04\n",
      "Epoch 154/200\n",
      "5/5 [==============================] - 0s 600us/step - loss: 5.2407e-04\n",
      "Epoch 155/200\n",
      "5/5 [==============================] - 0s 889us/step - loss: 5.2557e-04\n",
      "Epoch 156/200\n",
      "5/5 [==============================] - 0s 400us/step - loss: 5.2053e-04\n",
      "Epoch 157/200\n",
      "5/5 [==============================] - 0s 651us/step - loss: 5.2599e-04\n",
      "Epoch 158/200\n",
      "5/5 [==============================] - 0s 570us/step - loss: 5.1298e-04\n",
      "Epoch 159/200\n",
      "5/5 [==============================] - 0s 597us/step - loss: 5.0683e-04\n",
      "Epoch 160/200\n",
      "5/5 [==============================] - 0s 600us/step - loss: 5.1703e-04\n",
      "Epoch 161/200\n",
      "5/5 [==============================] - 0s 623us/step - loss: 5.7275e-04\n",
      "Epoch 162/200\n",
      "5/5 [==============================] - 0s 601us/step - loss: 5.6592e-04\n",
      "Epoch 163/200\n",
      "5/5 [==============================] - 0s 600us/step - loss: 4.8182e-04\n",
      "Epoch 164/200\n",
      "5/5 [==============================] - 0s 499us/step - loss: 5.6532e-04\n",
      "Epoch 165/200\n",
      "5/5 [==============================] - 0s 2ms/step - loss: 5.6524e-04\n",
      "Epoch 166/200\n",
      "5/5 [==============================] - 0s 600us/step - loss: 5.4807e-04\n",
      "Epoch 167/200\n",
      "5/5 [==============================] - 0s 581us/step - loss: 5.4039e-04\n",
      "Epoch 168/200\n",
      "5/5 [==============================] - 0s 1ms/step - loss: 5.3058e-04\n",
      "Epoch 169/200\n",
      "5/5 [==============================] - 0s 600us/step - loss: 4.6644e-04\n",
      "Epoch 170/200\n",
      "5/5 [==============================] - 0s 595us/step - loss: 5.0001e-04\n",
      "Epoch 171/200\n",
      "5/5 [==============================] - 0s 1ms/step - loss: 4.8423e-04\n",
      "Epoch 172/200\n",
      "5/5 [==============================] - 0s 600us/step - loss: 4.9363e-04\n",
      "Epoch 173/200\n",
      "5/5 [==============================] - 0s 566us/step - loss: 5.1013e-04\n",
      "Epoch 174/200\n",
      "5/5 [==============================] - 0s 1000us/step - loss: 6.3456e-04\n",
      "Epoch 175/200\n",
      "5/5 [==============================] - 0s 600us/step - loss: 7.8108e-04\n",
      "Epoch 176/200\n",
      "5/5 [==============================] - 0s 493us/step - loss: 7.3072e-04\n",
      "Epoch 177/200\n",
      "5/5 [==============================] - 0s 1ms/step - loss: 6.0932e-04\n",
      "Epoch 178/200\n",
      "5/5 [==============================] - 0s 400us/step - loss: 6.6227e-04\n",
      "Epoch 179/200\n",
      "5/5 [==============================] - 0s 403us/step - loss: 9.2815e-04\n",
      "Epoch 180/200\n",
      "5/5 [==============================] - 0s 1ms/step - loss: 7.9960e-04\n",
      "Epoch 181/200\n",
      "5/5 [==============================] - 0s 600us/step - loss: 5.5495e-04\n",
      "Epoch 182/200\n",
      "5/5 [==============================] - 0s 400us/step - loss: 6.0277e-04\n",
      "Epoch 183/200\n",
      "5/5 [==============================] - 0s 853us/step - loss: 6.4119e-04\n",
      "Epoch 184/200\n",
      "5/5 [==============================] - 0s 600us/step - loss: 5.7206e-04\n",
      "Epoch 185/200\n",
      "5/5 [==============================] - 0s 600us/step - loss: 5.4973e-04\n",
      "Epoch 186/200\n",
      "5/5 [==============================] - 0s 607us/step - loss: 6.4327e-04\n",
      "Epoch 187/200\n",
      "5/5 [==============================] - 0s 635us/step - loss: 5.3012e-04\n",
      "Epoch 188/200\n",
      "5/5 [==============================] - 0s 800us/step - loss: 6.1332e-04\n",
      "Epoch 189/200\n",
      "5/5 [==============================] - 0s 606us/step - loss: 5.1503e-04\n",
      "Epoch 190/200\n",
      "5/5 [==============================] - 0s 598us/step - loss: 5.1059e-04\n",
      "Epoch 191/200\n",
      "5/5 [==============================] - 0s 600us/step - loss: 5.1253e-04\n",
      "Epoch 192/200\n",
      "5/5 [==============================] - 0s 541us/step - loss: 6.1357e-04\n",
      "Epoch 193/200\n",
      "5/5 [==============================] - 0s 823us/step - loss: 4.7810e-04\n",
      "Epoch 194/200\n"
     ]
    },
    {
     "name": "stdout",
     "output_type": "stream",
     "text": [
      "5/5 [==============================] - 0s 600us/step - loss: 5.5594e-04\n",
      "Epoch 195/200\n",
      "5/5 [==============================] - 0s 672us/step - loss: 5.1512e-04\n",
      "Epoch 196/200\n",
      "5/5 [==============================] - 0s 600us/step - loss: 4.5353e-04\n",
      "Epoch 197/200\n",
      "5/5 [==============================] - 0s 600us/step - loss: 4.3400e-04\n",
      "Epoch 198/200\n",
      "5/5 [==============================] - 0s 764us/step - loss: 4.3839e-04\n",
      "Epoch 199/200\n",
      "5/5 [==============================] - 0s 600us/step - loss: 4.2703e-04\n",
      "Epoch 200/200\n",
      "5/5 [==============================] - 0s 600us/step - loss: 4.2059e-04\n"
     ]
    }
   ],
   "source": [
    "history = nn.fit(x_train, y_train, epochs=200)"
   ]
  },
  {
   "cell_type": "code",
   "execution_count": 67,
   "id": "74ed037b",
   "metadata": {},
   "outputs": [
    {
     "name": "stdout",
     "output_type": "stream",
     "text": [
      "1/1 [==============================] - 0s 1ms/step - loss: 0.0049\n"
     ]
    },
    {
     "data": {
      "text/plain": [
       "0.0049116299487650394"
      ]
     },
     "execution_count": 67,
     "metadata": {},
     "output_type": "execute_result"
    }
   ],
   "source": [
    "x_test = np.random.randint(0,50,(20,3))\n",
    "y_test = np.array([x.sum() for x in x_test])\n",
    "loss = nn.evaluate(x=x_test,y=y_test)\n",
    "loss"
   ]
  },
  {
   "cell_type": "code",
   "execution_count": 68,
   "id": "07ffba05",
   "metadata": {},
   "outputs": [
    {
     "name": "stdout",
     "output_type": "stream",
     "text": [
      "x_test = [47 39 26] y_test = 112 y_pred = [112.02101]\n",
      "x_test = [36 47  8] y_test = 91 y_pred = [91.01398]\n",
      "x_test = [27 26  1] y_test = 54 y_pred = [54.191498]\n",
      "x_test = [23  5 37] y_test = 65 y_pred = [65.03143]\n",
      "x_test = [39 18  8] y_test = 65 y_pred = [65.0086]\n",
      "x_test = [32 11  0] y_test = 43 y_pred = [43.057613]\n",
      "x_test = [43 19 12] y_test = 74 y_pred = [74.016464]\n",
      "x_test = [11 38 23] y_test = 72 y_pred = [72.04117]\n",
      "x_test = [22  6 25] y_test = 53 y_pred = [53.033672]\n",
      "x_test = [39 10  4] y_test = 53 y_pred = [53.059525]\n",
      "x_test = [25 42  4] y_test = 71 y_pred = [71.072075]\n",
      "x_test = [39 18 31] y_test = 88 y_pred = [88.031906]\n",
      "x_test = [19 21  1] y_test = 41 y_pred = [41.139782]\n",
      "x_test = [36 41  4] y_test = 81 y_pred = [81.07131]\n",
      "x_test = [ 0 23 28] y_test = 51 y_pred = [51.1259]\n",
      "x_test = [36  5 16] y_test = 57 y_pred = [57.000935]\n",
      "x_test = [31 12 11] y_test = 54 y_pred = [54.041115]\n",
      "x_test = [13 31 16] y_test = 60 y_pred = [60.028557]\n",
      "x_test = [29  6  9] y_test = 44 y_pred = [43.99263]\n",
      "x_test = [28  8 14] y_test = 50 y_pred = [50.02573]\n"
     ]
    }
   ],
   "source": [
    "y_pred = nn.predict(x_test)\n",
    "\n",
    "for i in range(len(x_test)):\n",
    "    print('x_test = {}'.format(x_test[i]), 'y_test = {}'.format(y_test[i]), 'y_pred = {}'.format(y_pred[i]))"
   ]
  },
  {
   "cell_type": "code",
   "execution_count": null,
   "id": "ac15e10d",
   "metadata": {},
   "outputs": [],
   "source": []
  }
 ],
 "metadata": {
  "kernelspec": {
   "display_name": "Python 3",
   "language": "python",
   "name": "python3"
  },
  "language_info": {
   "codemirror_mode": {
    "name": "ipython",
    "version": 3
   },
   "file_extension": ".py",
   "mimetype": "text/x-python",
   "name": "python",
   "nbconvert_exporter": "python",
   "pygments_lexer": "ipython3",
   "version": "3.8.8"
  }
 },
 "nbformat": 4,
 "nbformat_minor": 5
}
